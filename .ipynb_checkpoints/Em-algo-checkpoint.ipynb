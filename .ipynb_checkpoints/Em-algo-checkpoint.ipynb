{
 "cells": [
  {
   "cell_type": "code",
   "execution_count": 1,
   "metadata": {},
   "outputs": [
    {
     "name": "stdout",
     "output_type": "stream",
     "text": [
      "Requirement already satisfied: requests in c:\\users\\soumyaprakash\\anaconda3\\lib\\site-packages (2.22.0)\n",
      "Requirement already satisfied: certifi>=2017.4.17 in c:\\users\\soumyaprakash\\anaconda3\\lib\\site-packages (from requests) (2019.9.11)\n",
      "Requirement already satisfied: urllib3!=1.25.0,!=1.25.1,<1.26,>=1.21.1 in c:\\users\\soumyaprakash\\anaconda3\\lib\\site-packages (from requests) (1.24.2)\n",
      "Requirement already satisfied: idna<2.9,>=2.5 in c:\\users\\soumyaprakash\\anaconda3\\lib\\site-packages (from requests) (2.8)\n",
      "Requirement already satisfied: chardet<3.1.0,>=3.0.2 in c:\\users\\soumyaprakash\\anaconda3\\lib\\site-packages (from requests) (3.0.4)\n"
     ]
    }
   ],
   "source": [
    "!pip install requests"
   ]
  },
  {
   "cell_type": "code",
   "execution_count": 2,
   "metadata": {},
   "outputs": [],
   "source": [
    "import requests"
   ]
  },
  {
   "cell_type": "code",
   "execution_count": 9,
   "metadata": {},
   "outputs": [],
   "source": [
    "#Getting the data for 30 coin flips\n",
    "data_list=[]\n",
    "for i in range(1,31,1):\n",
    "    response = requests.get(\"https://24zl01u3ff.execute-api.us-west-1.amazonaws.com/beta\")\n",
    "    json_data=response.json()\n",
    "#     print(json_data['body'])\n",
    "    data_list.append(json_data['body'])"
   ]
  },
  {
   "cell_type": "code",
   "execution_count": 17,
   "metadata": {},
   "outputs": [],
   "source": [
    "# data_list[0].replace(\",\",\"\")\n",
    "for i in range(len(data_list)):\n",
    "    data_list[i]=data_list[i].replace(\",\",\"\")\n",
    "    data_list[i]=data_list[i].replace(\" \",\"\")\n",
    "    data_list[i]=data_list[i].replace(\"[\",\"\")\n",
    "    data_list[i]=data_list[i].replace(\"]\",\"\")\n",
    "\n",
    "# data_list\n",
    "    "
   ]
  },
  {
   "cell_type": "code",
   "execution_count": 50,
   "metadata": {},
   "outputs": [
    {
     "name": "stdout",
     "output_type": "stream",
     "text": [
      "['10001000111001000001', '00001101111101001111', '00000000001011101000', '00000010100101010010', '10010001010011100110', '01111111111001111010', '10011111000001100100', '11100100010000100000', '11011011001110011011', '10110101010110111011', '00000000000000100010', '00001100100000000100', '01110111001110101011', '10100111101101111000', '10000101010000000000', '11111110111111100101', '11011111101110001111', '00110011100100000000', '11011000000000000100', '10111110101110111011', '00101111110100101011', '00100100000101110100', '10110000000000010001', '11100111101010011101', '11110100111111111100', '01101001000100101100', '01111110001001111111', '00000111100000110000', '00100001100100000001', '10000000100100000101']\n"
     ]
    }
   ],
   "source": [
    "print(data_list)#List having data of all the 30 coin flip draws"
   ]
  },
  {
   "cell_type": "code",
   "execution_count": 37,
   "metadata": {},
   "outputs": [],
   "source": [
    "def likelihood_calc(draw,theta):\n",
    "    no_of_heads=draw.count('1')\n",
    "    flips=len(draw)\n",
    "    return pow(theta,no_of_heads)*pow(1-theta,flips-no_of_heads)"
   ]
  },
  {
   "cell_type": "code",
   "execution_count": 38,
   "metadata": {},
   "outputs": [],
   "source": [
    "def em_algo(data_list,theta_A,theta_B):\n",
    "    theta_A=theta_A\n",
    "    theta_B=theta_B\n",
    "    #We now perform the expectation step where we estimate the expected values for the heads and tails of coin 1 and 2 respectively\n",
    "    heads_1,heads_2,tails_1,tails_2=0,0,0,0\n",
    "    for draw in data_list:\n",
    "        likelihood_1 = likelihood_calc(draw, theta_A)\n",
    "        likelihood_2 = likelihood_calc(draw, theta_B)\n",
    "        p_1 = likelihood_1 / (likelihood_1 + likelihood_2)\n",
    "        p_2 = likelihood_2 / (likelihood_1 + likelihood_2)\n",
    "        heads_1 += p_1 * draw.count(\"1\")\n",
    "        tails_1 += p_1 * draw.count(\"0\")\n",
    "        heads_2 += p_2 * draw.count(\"1\")\n",
    "        tails_2 += p_2 * draw.count(\"0\")\n",
    "        \n",
    "    #The expected values of the heads and tails of the respective coins have now been calculated.Now we perform the maximization step\n",
    "#     print(heads_1,tails_1,heads_2,tails_2)\n",
    "    theta_A = heads_1 / (heads_1 + tails_1)\n",
    "    theta_B = heads_2 / (heads_2 + tails_2)\n",
    "#     print(theta_A,theta_B)\n",
    "    return theta_A,theta_B\n"
   ]
  },
  {
   "cell_type": "code",
   "execution_count": 49,
   "metadata": {},
   "outputs": [
    {
     "name": "stdout",
     "output_type": "stream",
     "text": [
      "0.3029988813044895 0.6618959443438279\n",
      "0.3029988813044895 0.6618959443438279\n"
     ]
    }
   ],
   "source": [
    "theta_A,theta_B=em_algo(data_list,0.4,0.6)\n",
    "print(theta_A,theta_B)"
   ]
  },
  {
   "cell_type": "code",
   "execution_count": 47,
   "metadata": {},
   "outputs": [],
   "source": []
  },
  {
   "cell_type": "code",
   "execution_count": 48,
   "metadata": {},
   "outputs": [
    {
     "name": "stdout",
     "output_type": "stream",
     "text": [
      "#0:\t0.60 0.50\n",
      "0.0 0.0 0.0 0.0\n",
      "0.0 0.0 0.0 0.0\n"
     ]
    },
    {
     "ename": "ZeroDivisionError",
     "evalue": "float division by zero",
     "output_type": "error",
     "traceback": [
      "\u001b[1;31m---------------------------------------------------------------------------\u001b[0m",
      "\u001b[1;31mZeroDivisionError\u001b[0m                         Traceback (most recent call last)",
      "\u001b[1;32m<ipython-input-48-11995c78832f>\u001b[0m in \u001b[0;36m<module>\u001b[1;34m\u001b[0m\n\u001b[1;32m----> 1\u001b[1;33m \u001b[0mthetas\u001b[0m\u001b[1;33m,\u001b[0m \u001b[0m_\u001b[0m \u001b[1;33m=\u001b[0m \u001b[0mcoin_em\u001b[0m\u001b[1;33m(\u001b[0m\u001b[0mdata_list\u001b[0m\u001b[1;33m,\u001b[0m \u001b[1;36m0.6\u001b[0m\u001b[1;33m,\u001b[0m \u001b[1;36m0.5\u001b[0m\u001b[1;33m,\u001b[0m \u001b[0mmaxiter\u001b[0m\u001b[1;33m=\u001b[0m\u001b[1;36m2\u001b[0m\u001b[1;33m)\u001b[0m\u001b[1;33m\u001b[0m\u001b[1;33m\u001b[0m\u001b[0m\n\u001b[0m",
      "\u001b[1;32m<ipython-input-47-d2f44d5aca44>\u001b[0m in \u001b[0;36mcoin_em\u001b[1;34m(rolls, theta_A, theta_B, maxiter)\u001b[0m\n\u001b[0;32m      9\u001b[0m         \u001b[0mheads_A\u001b[0m\u001b[1;33m,\u001b[0m \u001b[0mtails_A\u001b[0m\u001b[1;33m,\u001b[0m \u001b[0mheads_B\u001b[0m\u001b[1;33m,\u001b[0m \u001b[0mtails_B\u001b[0m \u001b[1;33m=\u001b[0m \u001b[0me_step\u001b[0m\u001b[1;33m(\u001b[0m\u001b[0mrolls\u001b[0m\u001b[1;33m,\u001b[0m \u001b[0mtheta_A\u001b[0m\u001b[1;33m,\u001b[0m \u001b[0mtheta_B\u001b[0m\u001b[1;33m)\u001b[0m\u001b[1;33m\u001b[0m\u001b[1;33m\u001b[0m\u001b[0m\n\u001b[0;32m     10\u001b[0m         \u001b[0mprint\u001b[0m\u001b[1;33m(\u001b[0m\u001b[0mheads_A\u001b[0m\u001b[1;33m,\u001b[0m \u001b[0mtails_A\u001b[0m\u001b[1;33m,\u001b[0m \u001b[0mheads_B\u001b[0m\u001b[1;33m,\u001b[0m \u001b[0mtails_B\u001b[0m\u001b[1;33m)\u001b[0m\u001b[1;33m\u001b[0m\u001b[1;33m\u001b[0m\u001b[0m\n\u001b[1;32m---> 11\u001b[1;33m         \u001b[0mtheta_A\u001b[0m\u001b[1;33m,\u001b[0m \u001b[0mtheta_B\u001b[0m \u001b[1;33m=\u001b[0m \u001b[0mm_step\u001b[0m\u001b[1;33m(\u001b[0m\u001b[0mheads_A\u001b[0m\u001b[1;33m,\u001b[0m \u001b[0mtails_A\u001b[0m\u001b[1;33m,\u001b[0m \u001b[0mheads_B\u001b[0m\u001b[1;33m,\u001b[0m \u001b[0mtails_B\u001b[0m\u001b[1;33m)\u001b[0m\u001b[1;33m\u001b[0m\u001b[1;33m\u001b[0m\u001b[0m\n\u001b[0m\u001b[0;32m     12\u001b[0m \u001b[1;33m\u001b[0m\u001b[0m\n\u001b[0;32m     13\u001b[0m     \u001b[0mthetas\u001b[0m\u001b[1;33m.\u001b[0m\u001b[0mappend\u001b[0m\u001b[1;33m(\u001b[0m\u001b[1;33m(\u001b[0m\u001b[0mtheta_A\u001b[0m\u001b[1;33m,\u001b[0m\u001b[0mtheta_B\u001b[0m\u001b[1;33m)\u001b[0m\u001b[1;33m)\u001b[0m\u001b[1;33m\u001b[0m\u001b[1;33m\u001b[0m\u001b[0m\n",
      "\u001b[1;32m<ipython-input-47-d2f44d5aca44>\u001b[0m in \u001b[0;36mm_step\u001b[1;34m(heads_A, tails_A, heads_B, tails_B)\u001b[0m\n\u001b[0;32m     36\u001b[0m \u001b[1;33m\u001b[0m\u001b[0m\n\u001b[0;32m     37\u001b[0m     \u001b[1;31m# Replace dummy values with your implementation\u001b[0m\u001b[1;33m\u001b[0m\u001b[1;33m\u001b[0m\u001b[1;33m\u001b[0m\u001b[0m\n\u001b[1;32m---> 38\u001b[1;33m     \u001b[0mtheta_A\u001b[0m \u001b[1;33m=\u001b[0m \u001b[0mheads_A\u001b[0m \u001b[1;33m/\u001b[0m \u001b[1;33m(\u001b[0m\u001b[0mheads_A\u001b[0m \u001b[1;33m+\u001b[0m \u001b[0mtails_A\u001b[0m\u001b[1;33m)\u001b[0m\u001b[1;33m\u001b[0m\u001b[1;33m\u001b[0m\u001b[0m\n\u001b[0m\u001b[0;32m     39\u001b[0m     \u001b[0mtheta_B\u001b[0m \u001b[1;33m=\u001b[0m \u001b[0mheads_B\u001b[0m \u001b[1;33m/\u001b[0m \u001b[1;33m(\u001b[0m\u001b[0mheads_B\u001b[0m \u001b[1;33m+\u001b[0m \u001b[0mtails_B\u001b[0m\u001b[1;33m)\u001b[0m\u001b[1;33m\u001b[0m\u001b[1;33m\u001b[0m\u001b[0m\n\u001b[0;32m     40\u001b[0m     \u001b[1;32mreturn\u001b[0m \u001b[0mtheta_A\u001b[0m\u001b[1;33m,\u001b[0m \u001b[0mtheta_B\u001b[0m\u001b[1;33m\u001b[0m\u001b[1;33m\u001b[0m\u001b[0m\n",
      "\u001b[1;31mZeroDivisionError\u001b[0m: float division by zero"
     ]
    }
   ],
   "source": []
  },
  {
   "cell_type": "code",
   "execution_count": null,
   "metadata": {},
   "outputs": [],
   "source": []
  }
 ],
 "metadata": {
  "kernelspec": {
   "display_name": "Python 3",
   "language": "python",
   "name": "python3"
  },
  "language_info": {
   "codemirror_mode": {
    "name": "ipython",
    "version": 3
   },
   "file_extension": ".py",
   "mimetype": "text/x-python",
   "name": "python",
   "nbconvert_exporter": "python",
   "pygments_lexer": "ipython3",
   "version": "3.7.4"
  }
 },
 "nbformat": 4,
 "nbformat_minor": 2
}
