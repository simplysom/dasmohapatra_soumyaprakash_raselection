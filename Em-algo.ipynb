{
 "cells": [
  {
   "cell_type": "code",
   "execution_count": 1,
   "metadata": {},
   "outputs": [
    {
     "name": "stdout",
     "output_type": "stream",
     "text": [
      "Requirement already satisfied: requests in c:\\users\\soumyaprakash\\anaconda3\\lib\\site-packages (2.22.0)\n",
      "Requirement already satisfied: urllib3!=1.25.0,!=1.25.1,<1.26,>=1.21.1 in c:\\users\\soumyaprakash\\anaconda3\\lib\\site-packages (from requests) (1.24.2)\n",
      "Requirement already satisfied: certifi>=2017.4.17 in c:\\users\\soumyaprakash\\anaconda3\\lib\\site-packages (from requests) (2019.9.11)\n",
      "Requirement already satisfied: chardet<3.1.0,>=3.0.2 in c:\\users\\soumyaprakash\\anaconda3\\lib\\site-packages (from requests) (3.0.4)\n",
      "Requirement already satisfied: idna<2.9,>=2.5 in c:\\users\\soumyaprakash\\anaconda3\\lib\\site-packages (from requests) (2.8)\n"
     ]
    }
   ],
   "source": [
    "!pip install requests"
   ]
  },
  {
   "cell_type": "code",
   "execution_count": 2,
   "metadata": {},
   "outputs": [],
   "source": [
    "import requests"
   ]
  },
  {
   "cell_type": "code",
   "execution_count": 3,
   "metadata": {},
   "outputs": [],
   "source": [
    "#Getting the data for 30 coin flips\n",
    "data_list=[]\n",
    "for i in range(1,31,1):\n",
    "    response = requests.get(\"https://24zl01u3ff.execute-api.us-west-1.amazonaws.com/beta\")\n",
    "    json_data=response.json()\n",
    "#     print(json_data['body'])\n",
    "    data_list.append(json_data['body'])"
   ]
  },
  {
   "cell_type": "code",
   "execution_count": 4,
   "metadata": {},
   "outputs": [],
   "source": [
    "# data_list[0].replace(\",\",\"\")\n",
    "for i in range(len(data_list)):\n",
    "    data_list[i]=data_list[i].replace(\",\",\"\")\n",
    "    data_list[i]=data_list[i].replace(\" \",\"\")\n",
    "    data_list[i]=data_list[i].replace(\"[\",\"\")\n",
    "    data_list[i]=data_list[i].replace(\"]\",\"\")\n",
    "\n",
    "# data_list\n",
    "    "
   ]
  },
  {
   "cell_type": "code",
   "execution_count": 5,
   "metadata": {},
   "outputs": [
    {
     "name": "stdout",
     "output_type": "stream",
     "text": [
      "['10110011011110010101', '10101100101111111111', '10101100100001100111', '00000000010100101000', '11101110100111111111', '01101101111010111110', '00110011000001111000', '00000010000011010010', '00001010100001110100', '00100000001000001011', '01001001010111100010', '11100000010001001101', '00001000011001010011', '00100100001000100101', '11101001110011100100', '00000010000100010001', '10111111011111111111', '00010000011001000100', '00010111011010110010', '00000100010000010100', '01110101111110111111', '01000001100000000100', '00010001010110010010', '01101111001000101100', '01110011101111101101', '01100100100101010001', '01010010100001000111', '01000000010101001010', '00110000001000000101', '10101101001111101111']\n"
     ]
    }
   ],
   "source": [
    "print(data_list)#List having data of all the 30 coin flip draws"
   ]
  },
  {
   "cell_type": "code",
   "execution_count": 6,
   "metadata": {},
   "outputs": [],
   "source": [
    "def likelihood_calc(draw,theta):\n",
    "    no_of_heads=draw.count('1')\n",
    "    flips=len(draw)\n",
    "    return pow(theta,no_of_heads)*pow(1-theta,flips-no_of_heads)"
   ]
  },
  {
   "cell_type": "code",
   "execution_count": 7,
   "metadata": {},
   "outputs": [],
   "source": [
    "def em_algo(data_list,theta_A,theta_B):\n",
    "    theta_A=theta_A\n",
    "    theta_B=theta_B\n",
    "    #We now perform the expectation step where we estimate the expected values for the heads and tails of coin 1 and 2 respectively\n",
    "    heads_1,heads_2,tails_1,tails_2=0,0,0,0\n",
    "    for draw in data_list:\n",
    "        likelihood_1 = likelihood_calc(draw, theta_A)\n",
    "        likelihood_2 = likelihood_calc(draw, theta_B)\n",
    "        p_1 = likelihood_1 / (likelihood_1 + likelihood_2)\n",
    "        p_2 = likelihood_2 / (likelihood_1 + likelihood_2)\n",
    "        heads_1 += p_1 * draw.count(\"1\")\n",
    "        tails_1 += p_1 * draw.count(\"0\")\n",
    "        heads_2 += p_2 * draw.count(\"1\")\n",
    "        tails_2 += p_2 * draw.count(\"0\")\n",
    "        \n",
    "    #The expected values of the heads and tails of the respective coins have now been calculated.Now we perform the maximization step\n",
    "#     print(heads_1,tails_1,heads_2,tails_2)\n",
    "    theta_A = heads_1 / (heads_1 + tails_1)\n",
    "    theta_B = heads_2 / (heads_2 + tails_2)\n",
    "#     print(theta_A,theta_B)\n",
    "    return theta_A,theta_B\n"
   ]
  },
  {
   "cell_type": "code",
   "execution_count": 8,
   "metadata": {},
   "outputs": [
    {
     "name": "stdout",
     "output_type": "stream",
     "text": [
      "0.325082200586326 0.6577727012615032\n"
     ]
    }
   ],
   "source": [
    "theta_A,theta_B=em_algo(data_list,0.4,0.6)\n",
    "print(theta_A,theta_B)"
   ]
  }
 ],
 "metadata": {
  "kernelspec": {
   "display_name": "Python 3",
   "language": "python",
   "name": "python3"
  },
  "language_info": {
   "codemirror_mode": {
    "name": "ipython",
    "version": 3
   },
   "file_extension": ".py",
   "mimetype": "text/x-python",
   "name": "python",
   "nbconvert_exporter": "python",
   "pygments_lexer": "ipython3",
   "version": "3.7.4"
  }
 },
 "nbformat": 4,
 "nbformat_minor": 2
}
